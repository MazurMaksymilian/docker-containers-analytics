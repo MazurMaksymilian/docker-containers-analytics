{
 "cells": [
  {
   "cell_type": "code",
   "execution_count": 1,
   "id": "d3dc42d4",
   "metadata": {},
   "outputs": [],
   "source": [
    "import psycopg2 as pg\n",
    "conn = pg.connect(dbname=\"docker\", user= \"root\", password= \"password\", host= \"172.17.0.1\")"
   ]
  },
  {
   "cell_type": "code",
   "execution_count": 3,
   "id": "be838ec5",
   "metadata": {},
   "outputs": [
    {
     "name": "stdout",
     "output_type": "stream",
     "text": [
      "[(9742,)]\n"
     ]
    }
   ],
   "source": [
    "cur = conn.cursor()\n",
    "cur.execute(\"SELECT COUNT(DISTINCT movie_id) FROM movies;\")\n",
    "print(cur.fetchall())\n",
    "cur.close()"
   ]
  },
  {
   "cell_type": "code",
   "execution_count": 4,
   "id": "d93ebf36",
   "metadata": {},
   "outputs": [
    {
     "name": "stdout",
     "output_type": "stream",
     "text": [
      "[('Drama',)]\n"
     ]
    }
   ],
   "source": [
    "cur = conn.cursor()\n",
    "cur.execute('''SELECT s.genre\n",
    "                FROM   movies m, unnest(string_to_array(m.genre, '|')) s(genre)\n",
    "                GROUP BY s.genre\n",
    "                order by count(*) desc\n",
    "                LIMIT 1;''')\n",
    "print(cur.fetchall())\n",
    "cur.close()"
   ]
  },
  {
   "cell_type": "code",
   "execution_count": 5,
   "id": "227ea054",
   "metadata": {},
   "outputs": [
    {
     "name": "stdout",
     "output_type": "stream",
     "text": [
      "[('Secrets & Lies (1996)', 4.590909090909091), (\"Guess Who's Coming to Dinner (1967)\", 4.545454545454546), ('Paths of Glory (1957)', 4.541666666666667), ('Streetcar Named Desire, A (1951)', 4.475), ('Celebration, The (Festen) (1998)', 4.458333333333333), ('Ran (1985)', 4.433333333333334), ('Shawshank Redemption, The (1994)', 4.429022082018927), ('His Girl Friday (1940)', 4.392857142857143), ('Sunset Blvd. (a.k.a. Sunset Boulevard) (1950)', 4.333333333333333), ('Hustler, The (1961)', 4.333333333333333)]\n"
     ]
    }
   ],
   "source": [
    "cur = conn.cursor()\n",
    "cur.execute('''SELECT m.title, r.rate FROM (\n",
    "                    SELECT movie_id, AVG(rating) as rate, count(*)\n",
    "                    FROM ratings\n",
    "                    GROUP BY movie_id\n",
    "                    HAVING COUNT(*) > 10\n",
    "                    ORDERY BY AVG(rating) DESC\n",
    "                    LIMIT 10) r JOIN movies m ON m.movie_id=r.movie_id;''')\n",
    "print(cur.fetchall())\n",
    "cur.close()"
   ]
  },
  {
   "cell_type": "code",
   "execution_count": 7,
   "id": "d0b74d8d",
   "metadata": {},
   "outputs": [
    {
     "name": "stdout",
     "output_type": "stream",
     "text": [
      "[('Copycat (1995)', 828124615, 'first rated movie'), ('Apollo 13 (1995)', 828124615, 'first rated movie'), ('Crimson Tide (1995)', 828124615, 'first rated movie'), ('Die Hard: With a Vengeance (1995)', 828124615, 'first rated movie'), ('Boys on the Side (1995)', 828124615, 'first rated movie'), ('Circle of Friends (1995)', 828124615, 'first rated movie'), ('Disclosure (1994)', 828124615, 'first rated movie'), ('Drop Zone (1994)', 828124615, 'first rated movie'), ('Baby-Sitters Club, The (1995)', 828124615, 'first rated movie'), ('Clear and Present Danger (1994)', 828124615, 'first rated movie'), ('Corrina, Corrina (1994)', 828124615, 'first rated movie'), ('Beverly Hills Cop III (1994)', 828124615, 'first rated movie'), ('Black Beauty (1994)', 828124615, 'first rated movie'), (\"City Slickers II: The Legend of Curly's Gold (1994)\", 828124615, 'first rated movie'), ('Cliffhanger (1993)', 828124615, 'first rated movie'), ('Englishman Who Went Up a Hill But Came Down a Mountain, The (1995)', 828124615, 'first rated movie'), ('Aladdin (1992)', 828124615, 'first rated movie'), ('Dances with Wolves (1990)', 828124615, 'first rated movie'), ('Batman (1989)', 828124615, 'first rated movie'), ('Beauty and the Beast (1991)', 828124615, 'first rated movie'), ('Crumb (1994)', 1537799250, 'last rated movie')]\n"
     ]
    }
   ],
   "source": [
    "#when somebody is \"most often rating user\" is somebody rating 10 times a day between 1995 and 2000\n",
    "#a more often rating less often than somebody rating 20 times for the last month?\n",
    "\n",
    "cur = conn.cursor()\n",
    "cur.execute('''\n",
    "WITH time_reference AS (\n",
    "SELECT min(timestamp) AS first_time, max(timestamp) AS last_time from ratings\n",
    ")\n",
    "SELECT m.title, r.timestamp, CASE WHEN r.timestamp = tr.first_time THEN 'first rated movie'\n",
    "                                  WHEN r.timestamp = tr.last_time THEN 'last rated movie' END\n",
    "from ratings r join time_reference tr on 1=1 INNER JOIN movies m ON r.movie_id = m.movie_id\n",
    "where r.timestamp = tr.first_time OR r.timestamp = tr.last_time;\n",
    "''')\n",
    "print(cur.fetchall())\n",
    "cur.close()"
   ]
  },
  {
   "cell_type": "code",
   "execution_count": 30,
   "id": "474e534f",
   "metadata": {},
   "outputs": [
    {
     "data": {
      "text/plain": [
       "[]"
      ]
     },
     "execution_count": 30,
     "metadata": {},
     "output_type": "execute_result"
    }
   ],
   "source": [
    "#when somebody is \"most often rating user\" is somebody rating 10 times a day between 1995 and 2000\n",
    "#a more often rating less often than somebody rating 20 times for the last month?\n",
    "\n",
    "cur = conn.cursor()\n",
    "cur.execute('''SELECT user_id, count(*) FROM ratings GROUP BY user_id order by count(*) DESC LIMIT 5;''')\n",
    "print(cur.fetchall())\n",
    "cur.close()"
   ]
  },
  {
   "cell_type": "code",
   "execution_count": 8,
   "id": "1fe9e2e4",
   "metadata": {},
   "outputs": [
    {
     "name": "stdout",
     "output_type": "stream",
     "text": [
      "[('Toy Story (1995)',), ('Jumanji (1995)',), ('Grumpier Old Men (1995)',), ('Waiting to Exhale (1995)',), ('Father of the Bride Part II (1995)',), ('Heat (1995)',), ('Sabrina (1995)',), ('Tom and Huck (1995)',), ('Sudden Death (1995)',), ('GoldenEye (1995)',), ('American President, The (1995)',), ('Dracula: Dead and Loving It (1995)',), ('Balto (1995)',), ('Nixon (1995)',), ('Cutthroat Island (1995)',), ('Casino (1995)',), ('Sense and Sensibility (1995)',), ('Four Rooms (1995)',), ('Ace Ventura: When Nature Calls (1995)',), ('Money Train (1995)',), ('Get Shorty (1995)',), ('Copycat (1995)',), ('Assassins (1995)',), ('Powder (1995)',), ('Leaving Las Vegas (1995)',), ('Othello (1995)',), ('Now and Then (1995)',), ('Persuasion (1995)',), ('City of Lost Children, The (Cité des enfants perdus, La) (1995)',), ('Shanghai Triad (Yao a yao yao dao waipo qiao) (1995)',), ('Dangerous Minds (1995)',), ('Twelve Monkeys (a.k.a. 12 Monkeys) (1995)',), ('Babe (1995)',), ('Dead Man Walking (1995)',), ('It Takes Two (1995)',), ('Clueless (1995)',), ('Cry, the Beloved Country (1995)',), ('Richard III (1995)',), ('Dead Presidents (1995)',), ('Restoration (1995)',), ('Mortal Kombat (1995)',), ('To Die For (1995)',), ('How to Make an American Quilt (1995)',), ('Seven (a.k.a. Se7en) (1995)',), ('Pocahontas (1995)',), ('When Night Is Falling (1995)',), ('Usual Suspects, The (1995)',), ('Mighty Aphrodite (1995)',), ('Big Green, The (1995)',), ('Georgia (1995)',), ('Home for the Holidays (1995)',), ('Indian in the Cupboard, The (1995)',), (\"Mr. Holland's Opus (1995)\",), ('French Twist (Gazon maudit) (1995)',), ('Friday (1995)',), ('Fair Game (1995)',), ('Kicking and Screaming (1995)',), ('Misérables, Les (1995)',), ('Screamers (1995)',), ('Nico Icon (1995)',), ('Crossing Guard, The (1995)',), ('White Balloon, The (Badkonake sefid) (1995)',), (\"Things to Do in Denver When You're Dead (1995)\",), (\"Antonia's Line (Antonia) (1995)\",), ('Once Upon a Time... When We Were Colored (1995)',), ('Angels and Insects (1995)',), ('Nick of Time (1995)',), ('Vampire in Brooklyn (1995)',), ('In the Bleak Midwinter (1995)',), ('Hate (Haine, La) (1995)',), ('Heidi Fleiss: Hollywood Madam (1995)',), ('Bridges of Madison County, The (1995)',), ('Braveheart (1995)',), ('Rumble in the Bronx (Hont faan kui) (1995)',), ('Anne Frank Remembered (1995)',), (\"Young Poisoner's Handbook, The (1995)\",), ('Steal Big, Steal Little (1995)',), ('Jade (1995)',), ('Man of the Year (1995)',), ('Brothers McMullen, The (1995)',), ('Bad Boys (1995)',), ('Amazing Panda Adventure, The (1995)',), ('Basketball Diaries, The (1995)',), ('Awfully Big Adventure, An (1995)',), ('Apollo 13 (1995)',), ('Rob Roy (1995)',), ('Addiction, The (1995)',), ('Batman Forever (1995)',), ('Beyond Rangoon (1995)',), ('Blue in the Face (1995)',), ('Canadian Bacon (1995)',), ('Casper (1995)',), ('Clockers (1995)',), ('Congo (1995)',), ('Crimson Tide (1995)',), ('Desperado (1995)',), ('Devil in a Blue Dress (1995)',), ('Die Hard: With a Vengeance (1995)',), ('Doom Generation, The (1995)',), ('First Knight (1995)',), ('Free Willy 2: The Adventure Home (1995)',), ('Hackers (1995)',), ('Jeffrey (1995)',), ('Johnny Mnemonic (1995)',), ('Judge Dredd (1995)',), ('Jury Duty (1995)',), ('Kids (1995)',), ('Living in Oblivion (1995)',), ('Lord of Illusions (1995)',), ('Mad Love (1995)',), ('Mallrats (1995)',), ('Mighty Morphin Power Rangers: The Movie (1995)',), ('Net, The (1995)',), ('Nine Months (1995)',), ('Party Girl (1995)',), ('Prophecy, The (1995)',), ('Reckless (1995)',), ('Safe (1995)',), ('Scarlet Letter, The (1995)',), ('Showgirls (1995)',), ('Smoke (1995)',), ('Something to Talk About (1995)',), ('Species (1995)',), ('Strange Days (1995)',), ('Three Wishes (1995)',), ('Total Eclipse (1995)',), ('To Wong Foo, Thanks for Everything! Julie Newmar (1995)',), ('Under Siege 2: Dark Territory (1995)',), ('Unstrung Heroes (1995)',), ('Unzipped (1995)',), ('Walk in the Clouds, A (1995)',), ('Waterworld (1995)',), (\"White Man's Burden (1995)\",), ('Wild Bill (1995)',), ('Bushwhacked (1995)',), ('Before Sunrise (1995)',), ('Billy Madison (1995)',), ('Babysitter, The (1995)',), ('Boys on the Side (1995)',), ('Cure, The (1995)',), ('Castle Freak (1995)',), ('Circle of Friends (1995)',), ('Don Juan DeMarco (1995)',), ('Destiny Turns on the Radio (1995)',), ('Dolores Claiborne (1995)',), ('French Kiss (1995)',), ('Forget Paris (1995)',), ('Far From Home: The Adventures of Yellow Dog (1995)',), ('Goofy Movie, A (1995)',), ('Hideaway (1995)',), ('Fluke (1995)',), ('Gordy (1995)',), ('Heavyweights (Heavy Weights) (1995)',), ('Hunted, The (1995)',), ('Jefferson in Paris (1995)',), ('Jerky Boys, The (1995)',), ('Just Cause (1995)',), (\"Kid in King Arthur's Court, A (1995)\",), ('Kiss of Death (1995)',), ('Little Princess, A (1995)',), ('Major Payne (1995)',), ('Losing Isaiah (1995)',), ('Man of the House (1995)',), ('Miami Rhapsody (1995)',), ('My Family (1995)',), ('Murder in the First (1995)',), ('New Jersey Drive (1995)',), ('Outbreak (1995)',), ('Perez Family, The (1995)',), (\"Pyromaniac's Love Story, A (1995)\",), ('Quick and the Dead, The (1995)',), ('Roommates (1995)',), ('Rent-a-Kid (1995)',), ('Stuart Saves His Family (1995)',), ('Swimming with Sharks (1995)',), (\"National Lampoon's Senior Trip (1995)\",), ('Tank Girl (1995)',), ('Tales from the Crypt Presents: Demon Knight (1995)',), ('Tales from the Hood (1995)',), ('Village of the Damned (1995)',), ('Tommy Boy (1995)',), ('Underneath (1995)',), ('Walking Dead, The (1995)',), ('Virtuosity (1995)',), ('While You Were Sleeping (1995)',), ('Baby-Sitters Club, The (1995)',), ('Higher Learning (1995)',), ('Bad Company (1995)',), ('Boys Life (1995)',), ('In the Mouth of Madness (1995)',), ('Live Nude Girls (1995)',), ('Englishman Who Went Up a Hill But Came Down a Mountain, The (1995)',), ('Welcome to the Dollhouse (1995)',), ('Celluloid Closet, The (1995)',), ('Brady Bunch Movie, The (1995)',), ('Candyman: Farewell to the Flesh (1995)',), ('Flower of My Secret, The (La flor de mi secreto) (1995)',), ('Two Much (1995)',), ('Last Supper, The (1995)',), ('Land and Freedom (Tierra y libertad) (1995)',), ('Denise Calls Up (1995)',), ('Theodore Rex (1995)',), ('Frisk (1995)',), ('Jack and Sarah (1995)',), ('Nelly & Monsieur Arnaud (1995)',), ('Cold Fever (Á köldum klaka) (1995)',), ('Underground (1995)',), ('Run of the Country, The (1995)',), ('Operation Dumbo Drop (1995)',), ('Delta of Venus (1995)',), ('Angus (1995)',), ('Dead Man (1995)',), ('Horseman on the Roof, The (Hussard sur le toit, Le) (1995)',), ('Cold Comfort Farm (1995)',), ('Ghost in the Shell (Kôkaku kidôtai) (1995)',), ('Wallace & Gromit: A Close Shave (1995)',), ('Heavy (1995)',), ('Land Before Time III: The Time of the Great Giving (1995)',), ('Halloween: The Curse of Michael Myers (Halloween 6: The Curse of Michael Myers) (1995)',), ('Nothing Personal (1995)',), ('Single Girl, A (Fille seule, La) (1995)',), ('Drunks (1995)',), ('Glory Daze (1995)',), ('Best of the Best 3: No Turning Back (1995)',), ('Blue Juice (1995)',), ('La Cérémonie (1995)',), ('Angel Baby (1995)',), ('Rough Magic (1995)',), ('Fallen Angels (Duo luo tian shi) (1995)',), ('Tall Tale (1995)',), ('Day of the Beast, The (Día de la Bestia, El) (1995)',), ('Iron Eagle IV (1995)',), ('Incredibly True Adventure of Two Girls in Love, The (1995)',), ('Funny Bones (1995)',), ('Empire Records (1995)',), ('Carnosaur 2 (1995)',), ('Fantasticks, The (1995)',), ('3 Ninjas Knuckle Up (1995)',), ('Born to Be Wild (1995)',), ('Ninja Scroll (Jûbei ninpûchô) (1995)',), ('Pride and Prejudice (1995)',), ('Darkman II: Return of Durant, The (1995)',), ('Langoliers, The (1995)',), ('Last Wedding, The (Kivenpyörittäjän kylä) (1995)',), ('Last of the Dogmen (1995)',), ('Whisper of the Heart (Mimi wo sumaseba) (1995)',), ('Memories (Memorîzu) (1995)',), ('Tuskegee Airmen, The (1995)',), ('Leprechaun 3 (1995)',), ('Citizen X (1995)',), ('Harrison Bergeron (1995)',), ('Adventures of Mary-Kate and Ashley, The: The Case of the Christmas Caper (1995)',), ('Prime Suspect: The Lost Child (1995)',), ('Runaway Brain (1995) ',), ('Ice Cream Man (1995)',), ('Let It Be Me (1995)',), ('Mortal Kombat: The Journey Begins (1995)',), ('The Spirit of Christmas (1995)',), ('Serving in Silence: The Margarethe Cammermeyer Story (1995)',)]\n",
      "[('Toy Story (1995)',), ('Jumanji (1995)',), ('Grumpier Old Men (1995)',), ('Waiting to Exhale (1995)',), ('Father of the Bride Part II (1995)',), ('Heat (1995)',), ('Sabrina (1995)',), ('Tom and Huck (1995)',), ('Sudden Death (1995)',), ('GoldenEye (1995)',), ('American President, The (1995)',), ('Dracula: Dead and Loving It (1995)',), ('Balto (1995)',), ('Nixon (1995)',), ('Cutthroat Island (1995)',), ('Casino (1995)',), ('Sense and Sensibility (1995)',), ('Four Rooms (1995)',), ('Ace Ventura: When Nature Calls (1995)',), ('Money Train (1995)',), ('Get Shorty (1995)',), ('Copycat (1995)',), ('Assassins (1995)',), ('Powder (1995)',), ('Leaving Las Vegas (1995)',), ('Othello (1995)',), ('Now and Then (1995)',), ('Persuasion (1995)',), ('City of Lost Children, The (Cité des enfants perdus, La) (1995)',), ('Shanghai Triad (Yao a yao yao dao waipo qiao) (1995)',), ('Dangerous Minds (1995)',), ('Twelve Monkeys (a.k.a. 12 Monkeys) (1995)',), ('Babe (1995)',), ('Dead Man Walking (1995)',), ('It Takes Two (1995)',), ('Clueless (1995)',), ('Cry, the Beloved Country (1995)',), ('Richard III (1995)',), ('Dead Presidents (1995)',), ('Restoration (1995)',), ('Mortal Kombat (1995)',), ('To Die For (1995)',), ('How to Make an American Quilt (1995)',), ('Seven (a.k.a. Se7en) (1995)',), ('Pocahontas (1995)',), ('When Night Is Falling (1995)',), ('Usual Suspects, The (1995)',), ('Mighty Aphrodite (1995)',), ('Big Green, The (1995)',), ('Georgia (1995)',), ('Home for the Holidays (1995)',), ('Indian in the Cupboard, The (1995)',), (\"Mr. Holland's Opus (1995)\",), ('French Twist (Gazon maudit) (1995)',), ('Friday (1995)',), ('Fair Game (1995)',), ('Kicking and Screaming (1995)',), ('Misérables, Les (1995)',), ('Screamers (1995)',), ('Nico Icon (1995)',), ('Crossing Guard, The (1995)',), ('White Balloon, The (Badkonake sefid) (1995)',), (\"Things to Do in Denver When You're Dead (1995)\",), (\"Antonia's Line (Antonia) (1995)\",), ('Once Upon a Time... When We Were Colored (1995)',), ('Angels and Insects (1995)',), ('Nick of Time (1995)',), ('Vampire in Brooklyn (1995)',), ('In the Bleak Midwinter (1995)',), ('Hate (Haine, La) (1995)',), ('Heidi Fleiss: Hollywood Madam (1995)',), ('Bridges of Madison County, The (1995)',), ('Braveheart (1995)',), ('Rumble in the Bronx (Hont faan kui) (1995)',), ('Anne Frank Remembered (1995)',), (\"Young Poisoner's Handbook, The (1995)\",), ('Steal Big, Steal Little (1995)',), ('Jade (1995)',), ('Man of the Year (1995)',), ('Brothers McMullen, The (1995)',), ('Bad Boys (1995)',), ('Amazing Panda Adventure, The (1995)',), ('Basketball Diaries, The (1995)',), ('Awfully Big Adventure, An (1995)',), ('Apollo 13 (1995)',), ('Rob Roy (1995)',), ('Addiction, The (1995)',), ('Batman Forever (1995)',), ('Beyond Rangoon (1995)',), ('Blue in the Face (1995)',), ('Canadian Bacon (1995)',), ('Casper (1995)',), ('Clockers (1995)',), ('Congo (1995)',), ('Crimson Tide (1995)',), ('Desperado (1995)',), ('Devil in a Blue Dress (1995)',), ('Die Hard: With a Vengeance (1995)',), ('Doom Generation, The (1995)',), ('First Knight (1995)',), ('Free Willy 2: The Adventure Home (1995)',), ('Hackers (1995)',), ('Jeffrey (1995)',), ('Johnny Mnemonic (1995)',), ('Judge Dredd (1995)',), ('Jury Duty (1995)',), ('Kids (1995)',), ('Living in Oblivion (1995)',), ('Lord of Illusions (1995)',), ('Mad Love (1995)',), ('Mallrats (1995)',), ('Mighty Morphin Power Rangers: The Movie (1995)',), ('Net, The (1995)',), ('Nine Months (1995)',), ('Party Girl (1995)',), ('Prophecy, The (1995)',), ('Reckless (1995)',), ('Safe (1995)',), ('Scarlet Letter, The (1995)',), ('Showgirls (1995)',), ('Smoke (1995)',), ('Something to Talk About (1995)',), ('Species (1995)',), ('Strange Days (1995)',), ('Three Wishes (1995)',), ('Total Eclipse (1995)',), ('To Wong Foo, Thanks for Everything! Julie Newmar (1995)',), ('Under Siege 2: Dark Territory (1995)',), ('Unstrung Heroes (1995)',), ('Unzipped (1995)',), ('Walk in the Clouds, A (1995)',), ('Waterworld (1995)',), (\"White Man's Burden (1995)\",), ('Wild Bill (1995)',), ('Bushwhacked (1995)',), ('Before Sunrise (1995)',), ('Billy Madison (1995)',), ('Babysitter, The (1995)',), ('Boys on the Side (1995)',), ('Cure, The (1995)',), ('Castle Freak (1995)',), ('Circle of Friends (1995)',), ('Don Juan DeMarco (1995)',), ('Destiny Turns on the Radio (1995)',), ('Dolores Claiborne (1995)',), ('French Kiss (1995)',), ('Forget Paris (1995)',), ('Far From Home: The Adventures of Yellow Dog (1995)',), ('Goofy Movie, A (1995)',), ('Hideaway (1995)',), ('Fluke (1995)',), ('Gordy (1995)',), ('Heavyweights (Heavy Weights) (1995)',), ('Hunted, The (1995)',), ('Jefferson in Paris (1995)',), ('Jerky Boys, The (1995)',), ('Just Cause (1995)',), (\"Kid in King Arthur's Court, A (1995)\",), ('Kiss of Death (1995)',), ('Little Princess, A (1995)',), ('Major Payne (1995)',), ('Losing Isaiah (1995)',), ('Man of the House (1995)',), ('Miami Rhapsody (1995)',), ('My Family (1995)',), ('Murder in the First (1995)',), ('New Jersey Drive (1995)',), ('Outbreak (1995)',), ('Perez Family, The (1995)',), (\"Pyromaniac's Love Story, A (1995)\",), ('Quick and the Dead, The (1995)',), ('Roommates (1995)',), ('Rent-a-Kid (1995)',), ('Stuart Saves His Family (1995)',), ('Swimming with Sharks (1995)',), (\"National Lampoon's Senior Trip (1995)\",), ('Tank Girl (1995)',), ('Tales from the Crypt Presents: Demon Knight (1995)',), ('Tales from the Hood (1995)',), ('Village of the Damned (1995)',), ('Tommy Boy (1995)',), ('Underneath (1995)',), ('Walking Dead, The (1995)',), ('Virtuosity (1995)',), ('While You Were Sleeping (1995)',), ('Baby-Sitters Club, The (1995)',), ('Higher Learning (1995)',), ('Bad Company (1995)',), ('Boys Life (1995)',), ('In the Mouth of Madness (1995)',), ('Live Nude Girls (1995)',), ('Englishman Who Went Up a Hill But Came Down a Mountain, The (1995)',), ('Welcome to the Dollhouse (1995)',), ('Celluloid Closet, The (1995)',), ('Brady Bunch Movie, The (1995)',), ('Candyman: Farewell to the Flesh (1995)',), ('Flower of My Secret, The (La flor de mi secreto) (1995)',), ('Two Much (1995)',), ('Last Supper, The (1995)',), ('Land and Freedom (Tierra y libertad) (1995)',), ('Denise Calls Up (1995)',), ('Theodore Rex (1995)',), ('Frisk (1995)',), ('Jack and Sarah (1995)',), ('Nelly & Monsieur Arnaud (1995)',), ('Cold Fever (Á köldum klaka) (1995)',), ('Underground (1995)',), ('Run of the Country, The (1995)',), ('Operation Dumbo Drop (1995)',), ('Delta of Venus (1995)',), ('Angus (1995)',), ('Dead Man (1995)',), ('Horseman on the Roof, The (Hussard sur le toit, Le) (1995)',), ('Cold Comfort Farm (1995)',), ('Ghost in the Shell (Kôkaku kidôtai) (1995)',), ('Wallace & Gromit: A Close Shave (1995)',), ('Heavy (1995)',), ('Land Before Time III: The Time of the Great Giving (1995)',), ('Halloween: The Curse of Michael Myers (Halloween 6: The Curse of Michael Myers) (1995)',), ('Nothing Personal (1995)',), ('Single Girl, A (Fille seule, La) (1995)',), ('Drunks (1995)',), ('Glory Daze (1995)',), ('Best of the Best 3: No Turning Back (1995)',), ('Blue Juice (1995)',), ('La Cérémonie (1995)',), ('Angel Baby (1995)',), ('Rough Magic (1995)',), ('Fallen Angels (Duo luo tian shi) (1995)',), ('Tall Tale (1995)',), ('Day of the Beast, The (Día de la Bestia, El) (1995)',), ('Iron Eagle IV (1995)',), ('Incredibly True Adventure of Two Girls in Love, The (1995)',), ('Funny Bones (1995)',), ('Empire Records (1995)',), ('Carnosaur 2 (1995)',), ('Fantasticks, The (1995)',), ('3 Ninjas Knuckle Up (1995)',), ('Born to Be Wild (1995)',), ('Ninja Scroll (Jûbei ninpûchô) (1995)',), ('Pride and Prejudice (1995)',), ('Darkman II: Return of Durant, The (1995)',), ('Langoliers, The (1995)',), ('Last Wedding, The (Kivenpyörittäjän kylä) (1995)',), ('Last of the Dogmen (1995)',), ('Whisper of the Heart (Mimi wo sumaseba) (1995)',), ('Memories (Memorîzu) (1995)',), ('Tuskegee Airmen, The (1995)',), ('Leprechaun 3 (1995)',), ('Citizen X (1995)',), ('Harrison Bergeron (1995)',), ('Adventures of Mary-Kate and Ashley, The: The Case of the Christmas Caper (1995)',), ('Prime Suspect: The Lost Child (1995)',), ('Runaway Brain (1995) ',), ('Ice Cream Man (1995)',), ('Let It Be Me (1995)',), ('Mortal Kombat: The Journey Begins (1995)',), ('The Spirit of Christmas (1995)',), ('Serving in Silence: The Margarethe Cammermeyer Story (1995)',)]\n"
     ]
    }
   ],
   "source": [
    "cur = conn.cursor()\n",
    "cur.execute('''SELECT title FROM movies WHERE trim(RIGHT(trim(title),5),')')='1995';''')\n",
    "print(cur.fetchall())\n",
    "cur.execute('''SELECT title FROM movies WHERE trim(title) ~ '\\(1995\\)$';''')\n",
    "print(cur.fetchall())\n",
    "cur.close()"
   ]
  }
 ],
 "metadata": {
  "kernelspec": {
   "display_name": "Python 3 (ipykernel)",
   "language": "python",
   "name": "python3"
  },
  "language_info": {
   "codemirror_mode": {
    "name": "ipython",
    "version": 3
   },
   "file_extension": ".py",
   "mimetype": "text/x-python",
   "name": "python",
   "nbconvert_exporter": "python",
   "pygments_lexer": "ipython3",
   "version": "3.9.7"
  }
 },
 "nbformat": 4,
 "nbformat_minor": 5
}
